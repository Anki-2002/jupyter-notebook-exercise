{
 "cells": [
  {
   "cell_type": "markdown",
   "id": "bdae9fc4-cb60-4e40-a4a2-2397fecc7072",
   "metadata": {},
   "source": [
    "# In this notebook, Data Science Tools and Ecosystem are summarized.\n",
    "## Objectives: fundamental of data science\n",
    "## what do data scientist do \n",
    "## big data and data mining \n",
    "## deep learning \n",
    "## Machine learning\n",
    "\n",
    "# List popular languages for Data Science\n",
    "## Python.\n",
    "## SQL.\n",
    "## R.\n",
    "## VBA (Visual Basic for Applications)\n",
    "## Julia. ...\n",
    "## JavaScript.\n",
    "## Java.\n",
    "## Scala."
   ]
  },
  {
   "cell_type": "markdown",
   "id": "855f2dd4-3ae1-48dd-9375-894766693832",
   "metadata": {},
   "source": [
    "# Author\n",
    "\n",
    "## Lakshmi Holla\n",
    "## Niveditha Pandith"
   ]
  },
  {
   "cell_type": "code",
   "execution_count": null,
   "id": "397c7acb-2756-4d38-9282-399f1827c98d",
   "metadata": {},
   "outputs": [],
   "source": []
  }
 ],
 "metadata": {
  "kernelspec": {
   "display_name": "Python",
   "language": "python",
   "name": "conda-env-python-py"
  },
  "language_info": {
   "codemirror_mode": {
    "name": "ipython",
    "version": 3
   },
   "file_extension": ".py",
   "mimetype": "text/x-python",
   "name": "python",
   "nbconvert_exporter": "python",
   "pygments_lexer": "ipython3",
   "version": "3.7.12"
  }
 },
 "nbformat": 4,
 "nbformat_minor": 5
}
